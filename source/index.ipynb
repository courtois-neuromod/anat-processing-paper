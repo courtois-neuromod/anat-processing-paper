{
 "cells": [
  {
   "attachments": {},
   "cell_type": "markdown",
   "metadata": {},
   "source": [
    "<head>\n",
    "\n",
    "<link rel=\"preconnect\" href=\"https://fonts.googleapis.com\">\n",
    "<link rel=\"preconnect\" href=\"https://fonts.gstatic.com\" crossorigin>\n",
    "<link href=\"https://fonts.googleapis.com/css2?family=STIX+Two+Text:ital,wght@0,400;0,700;1,400&display=swap\" rel=\"stylesheet\">\n",
    "\n",
    "<style>\n",
    "body, h1, h2, h3, h4, h5 {\n",
    "    font-family: 'STIX Two Text';\n",
    "}\n",
    "\n",
    ".caption {\n",
    "    text-align:justify;\n",
    "    line-height:1.25;\n",
    "    font-size:80%\n",
    "}\n",
    "\n",
    "#site-navigation {\n",
    "    display: none;\n",
    "}\n",
    "\n",
    "#main-content{\n",
    "    margin: 0 auto;\n",
    "}\n",
    "</style>\n",
    "</head>\n"
   ]
  },
  {
   "attachments": {},
   "cell_type": "markdown",
   "metadata": {},
   "source": [
    "<p>\n",
    "<center>\n",
    "<b>\n",
    "<h3>\n",
    "Longitudinal stability of brain and spinal cord quantitative MRI measures\n",
    "</h3>\n",
    "\n",
    "<p>\n",
    "Mathieu Boudreau<sup>1,2</sup>, Agah Karakuzu, Arnaud Boré, Basile Pinsard, Kiril Zelenkovski, Eva Alonso-Ortiz, Julie Boyle, Pierre Bellec, Julien Cohen-Adad\n",
    "</p>\n",
    "</b>\n",
    "\n",
    "<ul style=\"list-style-type: none\">\n",
    "<li><sup>1</sup>NeuroPoly Lab, Polytechnique Montréal, Montreal, Quebec, Canada</li>\n",
    "<li><sup>2</sup>Montreal Heart Institute, Montreal, Quebec, Canada</li>\n",
    "</ul>\n",
    "</center>\n",
    "</p>"
   ]
  }
 ],
 "metadata": {
  "kernelspec": {
   "display_name": "base",
   "language": "python",
   "name": "python3"
  },
  "language_info": {
   "codemirror_mode": {
    "name": "ipython",
    "version": 3
   },
   "file_extension": ".py",
   "mimetype": "text/x-python",
   "name": "python",
   "nbconvert_exporter": "python",
   "pygments_lexer": "ipython3",
   "version": "3.9.13"
  },
  "orig_nbformat": 4
 },
 "nbformat": 4,
 "nbformat_minor": 2
}
